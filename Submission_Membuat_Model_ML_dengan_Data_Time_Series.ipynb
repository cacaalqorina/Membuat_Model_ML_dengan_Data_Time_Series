{
  "nbformat": 4,
  "nbformat_minor": 0,
  "metadata": {
    "colab": {
      "provenance": [],
      "authorship_tag": "ABX9TyPgnp/juVuNSg5Hpm6X7fpW",
      "include_colab_link": true
    },
    "kernelspec": {
      "name": "python3",
      "display_name": "Python 3"
    },
    "language_info": {
      "name": "python"
    }
  },
  "cells": [
    {
      "cell_type": "markdown",
      "metadata": {
        "id": "view-in-github",
        "colab_type": "text"
      },
      "source": [
        "<a href=\"https://colab.research.google.com/github/cacaalqorina/Membuat_Model_ML_dengan_Data_Time_Series.ipynb/blob/main/Submission_Membuat_Model_ML_dengan_Data_Time_Series.ipynb\" target=\"_parent\"><img src=\"https://colab.research.google.com/assets/colab-badge.svg\" alt=\"Open In Colab\"/></a>"
      ]
    },
    {
      "cell_type": "code",
      "execution_count": null,
      "metadata": {
        "id": "Ls8HCvoVLDdy"
      },
      "outputs": [],
      "source": [
        "import numpy as np\n",
        "import pandas as pd\n",
        "import matplotlib.pyplot as plt\n",
        "import tensorflow as tf\n",
        "from keras.layers import Dense, LSTM\n",
        "from sklearn.preprocessing import MinMaxScaler\n",
        "from sklearn.model_selection import train_test_split"
      ]
    },
    {
      "cell_type": "code",
      "source": [
        "df = pd.read_csv('netflix.csv', parse_dates=['Date'])\n",
        "df.head()"
      ],
      "metadata": {
        "colab": {
          "base_uri": "https://localhost:8080/",
          "height": 206
        },
        "id": "DNrtJYHcNKWA",
        "outputId": "a30bfdc7-4664-41b8-c0ff-f0a1faafd03d"
      },
      "execution_count": null,
      "outputs": [
        {
          "output_type": "execute_result",
          "data": {
            "text/plain": [
              "        Date      High       Low      Open     Close       Volume  Adj Close\n",
              "0 2002-05-23  1.242857  1.145714  1.156429  1.196429  104790000.0   1.196429\n",
              "1 2002-05-24  1.225000  1.197143  1.214286  1.210000   11104800.0   1.210000\n",
              "2 2002-05-28  1.232143  1.157143  1.213571  1.157143    6609400.0   1.157143\n",
              "3 2002-05-29  1.164286  1.085714  1.164286  1.103571    6757800.0   1.103571\n",
              "4 2002-05-30  1.107857  1.071429  1.107857  1.071429   10154200.0   1.071429"
            ],
            "text/html": [
              "\n",
              "  <div id=\"df-45fec433-7e21-45a5-a760-266922a008a1\">\n",
              "    <div class=\"colab-df-container\">\n",
              "      <div>\n",
              "<style scoped>\n",
              "    .dataframe tbody tr th:only-of-type {\n",
              "        vertical-align: middle;\n",
              "    }\n",
              "\n",
              "    .dataframe tbody tr th {\n",
              "        vertical-align: top;\n",
              "    }\n",
              "\n",
              "    .dataframe thead th {\n",
              "        text-align: right;\n",
              "    }\n",
              "</style>\n",
              "<table border=\"1\" class=\"dataframe\">\n",
              "  <thead>\n",
              "    <tr style=\"text-align: right;\">\n",
              "      <th></th>\n",
              "      <th>Date</th>\n",
              "      <th>High</th>\n",
              "      <th>Low</th>\n",
              "      <th>Open</th>\n",
              "      <th>Close</th>\n",
              "      <th>Volume</th>\n",
              "      <th>Adj Close</th>\n",
              "    </tr>\n",
              "  </thead>\n",
              "  <tbody>\n",
              "    <tr>\n",
              "      <th>0</th>\n",
              "      <td>2002-05-23</td>\n",
              "      <td>1.242857</td>\n",
              "      <td>1.145714</td>\n",
              "      <td>1.156429</td>\n",
              "      <td>1.196429</td>\n",
              "      <td>104790000.0</td>\n",
              "      <td>1.196429</td>\n",
              "    </tr>\n",
              "    <tr>\n",
              "      <th>1</th>\n",
              "      <td>2002-05-24</td>\n",
              "      <td>1.225000</td>\n",
              "      <td>1.197143</td>\n",
              "      <td>1.214286</td>\n",
              "      <td>1.210000</td>\n",
              "      <td>11104800.0</td>\n",
              "      <td>1.210000</td>\n",
              "    </tr>\n",
              "    <tr>\n",
              "      <th>2</th>\n",
              "      <td>2002-05-28</td>\n",
              "      <td>1.232143</td>\n",
              "      <td>1.157143</td>\n",
              "      <td>1.213571</td>\n",
              "      <td>1.157143</td>\n",
              "      <td>6609400.0</td>\n",
              "      <td>1.157143</td>\n",
              "    </tr>\n",
              "    <tr>\n",
              "      <th>3</th>\n",
              "      <td>2002-05-29</td>\n",
              "      <td>1.164286</td>\n",
              "      <td>1.085714</td>\n",
              "      <td>1.164286</td>\n",
              "      <td>1.103571</td>\n",
              "      <td>6757800.0</td>\n",
              "      <td>1.103571</td>\n",
              "    </tr>\n",
              "    <tr>\n",
              "      <th>4</th>\n",
              "      <td>2002-05-30</td>\n",
              "      <td>1.107857</td>\n",
              "      <td>1.071429</td>\n",
              "      <td>1.107857</td>\n",
              "      <td>1.071429</td>\n",
              "      <td>10154200.0</td>\n",
              "      <td>1.071429</td>\n",
              "    </tr>\n",
              "  </tbody>\n",
              "</table>\n",
              "</div>\n",
              "      <button class=\"colab-df-convert\" onclick=\"convertToInteractive('df-45fec433-7e21-45a5-a760-266922a008a1')\"\n",
              "              title=\"Convert this dataframe to an interactive table.\"\n",
              "              style=\"display:none;\">\n",
              "        \n",
              "  <svg xmlns=\"http://www.w3.org/2000/svg\" height=\"24px\"viewBox=\"0 0 24 24\"\n",
              "       width=\"24px\">\n",
              "    <path d=\"M0 0h24v24H0V0z\" fill=\"none\"/>\n",
              "    <path d=\"M18.56 5.44l.94 2.06.94-2.06 2.06-.94-2.06-.94-.94-2.06-.94 2.06-2.06.94zm-11 1L8.5 8.5l.94-2.06 2.06-.94-2.06-.94L8.5 2.5l-.94 2.06-2.06.94zm10 10l.94 2.06.94-2.06 2.06-.94-2.06-.94-.94-2.06-.94 2.06-2.06.94z\"/><path d=\"M17.41 7.96l-1.37-1.37c-.4-.4-.92-.59-1.43-.59-.52 0-1.04.2-1.43.59L10.3 9.45l-7.72 7.72c-.78.78-.78 2.05 0 2.83L4 21.41c.39.39.9.59 1.41.59.51 0 1.02-.2 1.41-.59l7.78-7.78 2.81-2.81c.8-.78.8-2.07 0-2.86zM5.41 20L4 18.59l7.72-7.72 1.47 1.35L5.41 20z\"/>\n",
              "  </svg>\n",
              "      </button>\n",
              "      \n",
              "  <style>\n",
              "    .colab-df-container {\n",
              "      display:flex;\n",
              "      flex-wrap:wrap;\n",
              "      gap: 12px;\n",
              "    }\n",
              "\n",
              "    .colab-df-convert {\n",
              "      background-color: #E8F0FE;\n",
              "      border: none;\n",
              "      border-radius: 50%;\n",
              "      cursor: pointer;\n",
              "      display: none;\n",
              "      fill: #1967D2;\n",
              "      height: 32px;\n",
              "      padding: 0 0 0 0;\n",
              "      width: 32px;\n",
              "    }\n",
              "\n",
              "    .colab-df-convert:hover {\n",
              "      background-color: #E2EBFA;\n",
              "      box-shadow: 0px 1px 2px rgba(60, 64, 67, 0.3), 0px 1px 3px 1px rgba(60, 64, 67, 0.15);\n",
              "      fill: #174EA6;\n",
              "    }\n",
              "\n",
              "    [theme=dark] .colab-df-convert {\n",
              "      background-color: #3B4455;\n",
              "      fill: #D2E3FC;\n",
              "    }\n",
              "\n",
              "    [theme=dark] .colab-df-convert:hover {\n",
              "      background-color: #434B5C;\n",
              "      box-shadow: 0px 1px 3px 1px rgba(0, 0, 0, 0.15);\n",
              "      filter: drop-shadow(0px 1px 2px rgba(0, 0, 0, 0.3));\n",
              "      fill: #FFFFFF;\n",
              "    }\n",
              "  </style>\n",
              "\n",
              "      <script>\n",
              "        const buttonEl =\n",
              "          document.querySelector('#df-45fec433-7e21-45a5-a760-266922a008a1 button.colab-df-convert');\n",
              "        buttonEl.style.display =\n",
              "          google.colab.kernel.accessAllowed ? 'block' : 'none';\n",
              "\n",
              "        async function convertToInteractive(key) {\n",
              "          const element = document.querySelector('#df-45fec433-7e21-45a5-a760-266922a008a1');\n",
              "          const dataTable =\n",
              "            await google.colab.kernel.invokeFunction('convertToInteractive',\n",
              "                                                     [key], {});\n",
              "          if (!dataTable) return;\n",
              "\n",
              "          const docLinkHtml = 'Like what you see? Visit the ' +\n",
              "            '<a target=\"_blank\" href=https://colab.research.google.com/notebooks/data_table.ipynb>data table notebook</a>'\n",
              "            + ' to learn more about interactive tables.';\n",
              "          element.innerHTML = '';\n",
              "          dataTable['output_type'] = 'display_data';\n",
              "          await google.colab.output.renderOutput(dataTable, element);\n",
              "          const docLink = document.createElement('div');\n",
              "          docLink.innerHTML = docLinkHtml;\n",
              "          element.appendChild(docLink);\n",
              "        }\n",
              "      </script>\n",
              "    </div>\n",
              "  </div>\n",
              "  "
            ]
          },
          "metadata": {},
          "execution_count": 6
        }
      ]
    },
    {
      "cell_type": "code",
      "source": [
        "df.isnull().sum()"
      ],
      "metadata": {
        "colab": {
          "base_uri": "https://localhost:8080/"
        },
        "id": "zP7tjaVLOGnX",
        "outputId": "e19dfb12-851e-4b0a-ae9e-7718d3ec5d52"
      },
      "execution_count": null,
      "outputs": [
        {
          "output_type": "execute_result",
          "data": {
            "text/plain": [
              "Date         0\n",
              "High         0\n",
              "Low          0\n",
              "Open         0\n",
              "Close        0\n",
              "Volume       0\n",
              "Adj Close    0\n",
              "dtype: int64"
            ]
          },
          "metadata": {},
          "execution_count": 8
        }
      ]
    },
    {
      "cell_type": "code",
      "source": [
        "df.shape"
      ],
      "metadata": {
        "colab": {
          "base_uri": "https://localhost:8080/"
        },
        "id": "twnJPoZONtCb",
        "outputId": "800c5499-d493-421c-fd6a-dad0acedf737"
      },
      "execution_count": null,
      "outputs": [
        {
          "output_type": "execute_result",
          "data": {
            "text/plain": [
              "(4881, 7)"
            ]
          },
          "metadata": {},
          "execution_count": 4
        }
      ]
    },
    {
      "cell_type": "code",
      "source": [
        "df.info()"
      ],
      "metadata": {
        "colab": {
          "base_uri": "https://localhost:8080/"
        },
        "id": "NNTE11wsN0Ow",
        "outputId": "f017206c-5d2d-43d5-e255-ba5fc7116e57"
      },
      "execution_count": null,
      "outputs": [
        {
          "output_type": "stream",
          "name": "stdout",
          "text": [
            "<class 'pandas.core.frame.DataFrame'>\n",
            "RangeIndex: 4881 entries, 0 to 4880\n",
            "Data columns (total 7 columns):\n",
            " #   Column     Non-Null Count  Dtype         \n",
            "---  ------     --------------  -----         \n",
            " 0   Date       4881 non-null   datetime64[ns]\n",
            " 1   High       4881 non-null   float64       \n",
            " 2   Low        4881 non-null   float64       \n",
            " 3   Open       4881 non-null   float64       \n",
            " 4   Close      4881 non-null   float64       \n",
            " 5   Volume     4881 non-null   float64       \n",
            " 6   Adj Close  4881 non-null   float64       \n",
            "dtypes: datetime64[ns](1), float64(6)\n",
            "memory usage: 267.1 KB\n"
          ]
        }
      ]
    },
    {
      "cell_type": "code",
      "source": [
        "dates = df['Date'].values\n",
        "volume = df['Volume'].values\n",
        "\n",
        "plt.figure(figsize=(15,5))\n",
        "plt.plot(dates, volume)\n",
        "plt.title('Unit yang terjual',\n",
        "          fontsize=20)"
      ],
      "metadata": {
        "colab": {
          "base_uri": "https://localhost:8080/",
          "height": 358
        },
        "id": "nJAUqtJPOQ9Q",
        "outputId": "cf406ca1-780c-440a-b12b-c5b5b3f1285b"
      },
      "execution_count": null,
      "outputs": [
        {
          "output_type": "execute_result",
          "data": {
            "text/plain": [
              "Text(0.5, 1.0, 'Unit yang terjual')"
            ]
          },
          "metadata": {},
          "execution_count": 9
        },
        {
          "output_type": "display_data",
          "data": {
            "text/plain": [
              "<Figure size 1080x360 with 1 Axes>"
            ],
            "image/png": "[encoded data removed]"
          },
          "metadata": {
            "needs_background": "light"
          }
        }
      ]
    },
    {
      "cell_type": "code",
      "source": [
        "df['Date'] = pd.to_datetime(df['Date'])\n",
        "df = df.set_index('Date')"
      ],
      "metadata": {
        "id": "qU_k4IHZO_Te"
      },
      "execution_count": null,
      "outputs": []
    },
    {
      "cell_type": "code",
      "source": [
        "volume = volume.reshape(-1,1)\n",
        "volume"
      ],
      "metadata": {
        "colab": {
          "base_uri": "https://localhost:8080/"
        },
        "id": "WGuMu3S7PRAy",
        "outputId": "750a63e0-b68a-4d20-e78d-88041fcd1017"
      },
      "execution_count": null,
      "outputs": [
        {
          "output_type": "execute_result",
          "data": {
            "text/plain": [
              "array([[1.04790e+08],\n",
              "       [1.11048e+07],\n",
              "       [6.60940e+06],\n",
              "       ...,\n",
              "       [3.55690e+06],\n",
              "       [3.27110e+06],\n",
              "       [2.86120e+06]])"
            ]
          },
          "metadata": {},
          "execution_count": 11
        }
      ]
    },
    {
      "cell_type": "code",
      "source": [
        "scaler = MinMaxScaler()\n",
        "volume = scaler.fit_transform(volume)"
      ],
      "metadata": {
        "id": "BIn6ugqLPZIX"
      },
      "execution_count": null,
      "outputs": []
    },
    {
      "cell_type": "code",
      "source": [
        "X_train, X_test, y_train, y_test = train_test_split(volume, dates,\n",
        "                                                    test_size=0.2,\n",
        "                                                    shuffle=False)"
      ],
      "metadata": {
        "id": "mimxVa5qPmsf"
      },
      "execution_count": null,
      "outputs": []
    },
    {
      "cell_type": "code",
      "source": [
        "def windowed_dataset(series, window_size, batch_size, shuffle_buffer):\n",
        "    series = tf.expand_dims(series, axis=-1)\n",
        "    ds = tf.data.Dataset.from_tensor_slices(series)\n",
        "    ds = ds.window(window_size + 1, shift=1, drop_remainder=True)\n",
        "    ds = ds.flat_map(lambda w: w.batch(window_size + 1))\n",
        "    ds = ds.shuffle(shuffle_buffer)\n",
        "    ds = ds.map(lambda w: (w[:-1], w[-1:]))\n",
        "    return ds.batch(batch_size).prefetch(1)"
      ],
      "metadata": {
        "id": "_T6yxyYHQcF2"
      },
      "execution_count": null,
      "outputs": []
    },
    {
      "cell_type": "code",
      "source": [
        "train_set = windowed_dataset(X_test, window_size=60, batch_size=100, shuffle_buffer=1000)\n",
        "test_set  = windowed_dataset(X_train, window_size=60, batch_size=32, shuffle_buffer=1000)\n",
        "\n",
        "model = tf.keras.models.Sequential([\n",
        "  tf.keras.layers.LSTM(60, return_sequences=True, input_shape = [None, 1]),\n",
        "  tf.keras.layers.LSTM(60),\n",
        "  tf.keras.layers.Dense(30, activation=\"relu\"),\n",
        "  tf.keras.layers.Dense(10, activation=\"relu\"),\n",
        "  tf.keras.layers.Dense(1),\n",
        "])"
      ],
      "metadata": {
        "id": "-t-Iy6f_Qzwg"
      },
      "execution_count": null,
      "outputs": []
    },
    {
      "cell_type": "code",
      "source": [
        "threshold_mae = (volume.max() - volume.min()) * 10/100\n",
        "print(\"Batas maksimal nilai mae (10%) dari data adalah sebesar\", threshold_mae)"
      ],
      "metadata": {
        "colab": {
          "base_uri": "https://localhost:8080/"
        },
        "id": "irE0i5quQ4aO",
        "outputId": "48a1e432-977d-4176-f3e8-22f58bd1dad0"
      },
      "execution_count": null,
      "outputs": [
        {
          "output_type": "stream",
          "name": "stdout",
          "text": [
            "Batas maksimal nilai mae (10%) dari data adalah sebesar 0.1\n"
          ]
        }
      ]
    },
    {
      "cell_type": "code",
      "source": [
        "class myCallback(tf.keras.callbacks.Callback): \n",
        "  def on_epoch_end(self, epoch, logs={}): \n",
        "    if(logs.get('mae') < threshold_mae): \n",
        "      print(\"MAE < 10%\") \n",
        "      self.model.stop_training = True \n",
        "callbacks = myCallback()"
      ],
      "metadata": {
        "id": "WnWxUnEaQ8Gq"
      },
      "execution_count": null,
      "outputs": []
    },
    {
      "cell_type": "code",
      "source": [
        "optimizer = tf.keras.optimizers.SGD(lr=1.0000e-04, momentum=0.9)\n",
        "model.compile(loss=tf.keras.losses.Huber(),\n",
        "              optimizer=optimizer,\n",
        "              metrics=[\"mae\"])\n",
        "\n",
        "history = model.fit(train_set,\n",
        "                    epochs=100,\n",
        "                    validation_data=test_set,\n",
        "                    verbose=2,\n",
        "                    callbacks=[callbacks])"
      ],
      "metadata": {
        "colab": {
          "base_uri": "https://localhost:8080/"
        },
        "id": "BuGTA4RJREJs",
        "outputId": "7c91a368-5754-4224-96d3-373bbbec0298"
      },
      "execution_count": null,
      "outputs": [
        {
          "output_type": "stream",
          "name": "stdout",
          "text": [
            "Epoch 1/100\n"
          ]
        },
        {
          "output_type": "stream",
          "name": "stderr",
          "text": [
            "/usr/local/lib/python3.7/dist-packages/keras/optimizers/optimizer_v2/gradient_descent.py:108: UserWarning: The `lr` argument is deprecated, use `learning_rate` instead.\n",
            "  super(SGD, self).__init__(name, **kwargs)\n"
          ]
        },
        {
          "output_type": "stream",
          "name": "stdout",
          "text": [
            "MAE < 10%\n",
            "10/10 - 13s - loss: 3.9940e-04 - mae: 0.0232 - val_loss: 0.0039 - val_mae: 0.0598 - 13s/epoch - 1s/step\n"
          ]
        }
      ]
    }
  ]
}